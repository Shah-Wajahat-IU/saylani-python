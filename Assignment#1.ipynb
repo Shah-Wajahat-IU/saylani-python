{
 "cells": [
  {
   "cell_type": "code",
   "execution_count": 1,
   "metadata": {},
   "outputs": [
    {
     "name": "stdout",
     "output_type": "stream",
     "text": [
      "Twinkle, twinkle, little star, \n",
      "\tHow I wonder what you are! \n",
      "\t\tUp above the world so high, \n",
      "\t\tLike a diamond in the sky. \n",
      "Twinkle, twinkle, little star, \n",
      "\tHow I wonder what you are!\n"
     ]
    }
   ],
   "source": [
    "\n",
    "print(\n",
    "    \"Twinkle, twinkle, little star, \"\n",
    "    \"\\n\\tHow I wonder what you are! \"\n",
    "    \"\\n\\t\\tUp above the world so high, \"\n",
    "    \"\\n\\t\\tLike a diamond in the sky. \"\n",
    "    \"\\nTwinkle, twinkle, little star, \"\n",
    "    \"\\n\\tHow I wonder what you are!\")\n"
   ]
  },
  {
   "cell_type": "code",
   "execution_count": 2,
   "metadata": {},
   "outputs": [
    {
     "name": "stdout",
     "output_type": "stream",
     "text": [
      "=============Check the version of python==============\n",
      " Current Python Version3.7.3 (default, Apr 24 2019, 15:29:51) [MSC v.1915 64 bit (AMD64)]\n"
     ]
    }
   ],
   "source": [
    "print(\"=============Check the version of python==============\")\n",
    "import sys\n",
    "print(\" Current Python Version\"+ sys.version)\n"
   ]
  },
  {
   "cell_type": "code",
   "execution_count": 3,
   "metadata": {},
   "outputs": [
    {
     "name": "stdout",
     "output_type": "stream",
     "text": [
      "=============Current Date And Time==============\n",
      "Current Date and Time: 2019-11-22 20:17:26.943719\n"
     ]
    }
   ],
   "source": [
    "print(\"=============Current Date And Time==============\")\n",
    "import datetime\n",
    "date = datetime.datetime.now()\n",
    "print(\"Current Date and Time: \"+ str(date))"
   ]
  },
  {
   "cell_type": "code",
   "execution_count": 4,
   "metadata": {},
   "outputs": [
    {
     "name": "stdout",
     "output_type": "stream",
     "text": [
      "=============Find the Radius Of Circle==============\n",
      "Input the radius of the circle : 34\n",
      "The area of the circle with radius 34.0 is: 3631.681107549801\n"
     ]
    }
   ],
   "source": [
    "print(\"=============Find the Radius Of Circle==============\")\n",
    "from math import pi\n",
    "r = float(input (\"Input the radius of the circle : \"))\n",
    "print (\"The area of the circle with radius \" + str(r) + \" is: \" + str(pi * r**2))\n"
   ]
  },
  {
   "cell_type": "code",
   "execution_count": 5,
   "metadata": {},
   "outputs": [
    {
     "name": "stdout",
     "output_type": "stream",
     "text": [
      "=============Adding of Two Number==============\n",
      "Enter first number: 5\n",
      "Enter second number: 6\n",
      "The sum of 5 and 6 is 11.0\n"
     ]
    }
   ],
   "source": [
    "print(\"=============Adding of Two Number==============\")\n",
    "from math import pi\n",
    "num1 = input('Enter first number: ')\n",
    "num2 = input('Enter second number: ')\n",
    "\n",
    "sum = float(num1) + float(num2)\n",
    "\n",
    "print('The sum of {0} and {1} is {2}'.format(num1, num2, sum))"
   ]
  },
  {
   "cell_type": "code",
   "execution_count": null,
   "metadata": {},
   "outputs": [],
   "source": []
  }
 ],
 "metadata": {
  "kernelspec": {
   "display_name": "Python 3",
   "language": "python",
   "name": "python3"
  },
  "language_info": {
   "codemirror_mode": {
    "name": "ipython",
    "version": 3
   },
   "file_extension": ".py",
   "mimetype": "text/x-python",
   "name": "python",
   "nbconvert_exporter": "python",
   "pygments_lexer": "ipython3",
   "version": "3.7.3"
  }
 },
 "nbformat": 4,
 "nbformat_minor": 2
}
