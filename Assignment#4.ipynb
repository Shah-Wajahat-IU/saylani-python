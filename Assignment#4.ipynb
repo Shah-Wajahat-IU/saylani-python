{
 "cells": [
  {
   "cell_type": "code",
   "execution_count": 1,
   "metadata": {},
   "outputs": [
    {
     "name": "stdout",
     "output_type": "stream",
     "text": [
      "Shah\n",
      "Wajahat\n",
      "24\n",
      "Karachi\n",
      "Add a new key value pair about qualification\n",
      "{'first_name': 'Shah', 'last_name': 'Wajahat', 'age': 24, 'city': 'Karachi', 'qualification': '16th'} \n",
      "\n",
      "update the qualification value to high academic level\n",
      "{'first_name': 'Shah', 'last_name': 'Wajahat', 'age': 24, 'city': 'Karachi', 'qualification': 'Graduation'}\n",
      "\n",
      "delete it the key of qualification\n",
      "{'first_name': 'Shah', 'last_name': 'Wajahat', 'age': 24, 'city': 'Karachi'}\n"
     ]
    }
   ],
   "source": [
    "#------------Question No 1-------------\n",
    "person = {\n",
    "    'first_name': 'Shah',\n",
    "    'last_name': 'Wajahat',\n",
    "    'age': 24,\n",
    "    'city': 'Karachi',\n",
    "    }\n",
    "\n",
    "print(person['first_name'])\n",
    "print(person['last_name'])\n",
    "print(person['age'])\n",
    "print(person['city'])\n",
    "print('Add a new key value pair about qualification') \n",
    "person['qualification']='16th'\n",
    "print(person,'\\n')\n",
    "print(\"update the qualification value to high academic level\")\n",
    "person.update(qualification='Graduation')\n",
    "print(person)\n",
    "del person['qualification']\n",
    "print(\"\\ndelete it the key of qualification\")\n",
    "print(person)\n",
    "\n"
   ]
  },
  {
   "cell_type": "code",
   "execution_count": 2,
   "metadata": {},
   "outputs": [
    {
     "name": "stdout",
     "output_type": "stream",
     "text": [
      "\n",
      "Karachi\n",
      "\n",
      "country : Pakistan\n",
      "population : 15741000\n",
      "fact : Called Light Of City\n",
      "\n",
      "KPK\n",
      "\n",
      "country : Pakistan\n",
      "population : 5000000\n",
      "fact : Nature Of Beauti\n",
      "\n",
      "Mirpurkhas\n",
      "\n",
      "country : Pakistan\n",
      "population : 505876\n",
      "fact : known as mongo sweet\n"
     ]
    }
   ],
   "source": [
    "cities = {\n",
    "    'Karachi': {\n",
    "        'country': 'Pakistan',\n",
    "        'population': 15741000,\n",
    "        'fact': 'Called Light Of City',\n",
    "        },\n",
    "    'KPK': {\n",
    "        'country': 'Pakistan',\n",
    "        'population': 5000000,\n",
    "        'fact': 'Nature Of Beauti',\n",
    "        },\n",
    "    'Mirpurkhas': {\n",
    "        'country': 'Pakistan',\n",
    "        'population': 505876,\n",
    "        'fact': 'known as mongo sweet',\n",
    "        }\n",
    "    }\n",
    "for citykey,cityinfo in cities.items():\n",
    "    print(\"\\n\"+citykey+\"\\n\")\n",
    "    for city in cityinfo:\n",
    "        print(city+\" : \"+str(cityinfo[city]))"
   ]
  },
  {
   "cell_type": "code",
   "execution_count": 3,
   "metadata": {},
   "outputs": [
    {
     "name": "stdout",
     "output_type": "stream",
     "text": [
      "Enter age : 12\n",
      "Ticket is 10$\n",
      "Are you want to take ticket y/n: y\n",
      "Enter age : 14\n",
      "Ticket is 15$\n",
      "Are you want to take ticket y/n: n\n"
     ]
    }
   ],
   "source": [
    "flag='y'\n",
    "while flag!='n':\n",
    "    age=int(input(\"Enter age : \"))\n",
    "    if age>12:\n",
    "        print(\"Ticket is 15$\")\n",
    "    elif age>=3:\n",
    "        print(\"Ticket is 10$\")\n",
    "    else:\n",
    "        print(\"Ticket is free\")\n",
    "    flag=input(\"Are you want to take ticket y/n: \")"
   ]
  },
  {
   "cell_type": "code",
   "execution_count": 4,
   "metadata": {},
   "outputs": [
    {
     "name": "stdout",
     "output_type": "stream",
     "text": [
      "One of my favorite books is Alice in Wonderland.\n"
     ]
    }
   ],
   "source": [
    "def favorite_book(title):\n",
    "    print(title)\n",
    "book_title=\"One of my favorite books is Alice in Wonderland.\"\n",
    "if(len(book_title)!=0):\n",
    "    favorite_book(book_title)\n",
    "else:\n",
    "    print(\"Please populate the book title\")"
   ]
  },
  {
   "cell_type": "code",
   "execution_count": null,
   "metadata": {},
   "outputs": [],
   "source": []
  }
 ],
 "metadata": {
  "kernelspec": {
   "display_name": "Python 3",
   "language": "python",
   "name": "python3"
  },
  "language_info": {
   "codemirror_mode": {
    "name": "ipython",
    "version": 3
   },
   "file_extension": ".py",
   "mimetype": "text/x-python",
   "name": "python",
   "nbconvert_exporter": "python",
   "pygments_lexer": "ipython3",
   "version": "3.7.3"
  }
 },
 "nbformat": 4,
 "nbformat_minor": 2
}
