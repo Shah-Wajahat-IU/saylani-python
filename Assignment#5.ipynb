{
 "cells": [
  {
   "cell_type": "code",
   "execution_count": 1,
   "metadata": {},
   "outputs": [
    {
     "data": {
      "text/plain": [
       "5040"
      ]
     },
     "execution_count": 1,
     "metadata": {},
     "output_type": "execute_result"
    }
   ],
   "source": [
    "#----------------Finding Factorial Number---------------------\n",
    "def factorial(n):\n",
    "    if n == 0:\n",
    "        return 1\n",
    "    else:\n",
    "        return n * factorial(n-1)\n",
    "factorial(7)"
   ]
  },
  {
   "cell_type": "code",
   "execution_count": 2,
   "metadata": {},
   "outputs": [
    {
     "name": "stdout",
     "output_type": "stream",
     "text": [
      "Original String :  My name Is Shah Wajahat. I am DoIng BSCS. \n",
      "No. of Upper case characters :  11\n",
      "No. of Lower case Characters :  20\n"
     ]
    }
   ],
   "source": [
    "#----------------Finding Uper Case and Lower in a given String---------------------\n",
    "def string_test(s):\n",
    "    d={\"UPPER_CASE\":0, \"LOWER_CASE\":0}\n",
    "    for c in s:\n",
    "        if c.isupper():\n",
    "           d[\"UPPER_CASE\"]+=1\n",
    "        elif c.islower():\n",
    "           d[\"LOWER_CASE\"]+=1\n",
    "        else:\n",
    "           pass\n",
    "    print (\"Original String : \", s)\n",
    "    print (\"No. of Upper case characters : \", d[\"UPPER_CASE\"])\n",
    "    print (\"No. of Lower case Characters : \", d[\"LOWER_CASE\"])\n",
    "\n",
    "string_test('My name Is Shah Wajahat. I am DoIng BSCS. ')"
   ]
  },
  {
   "cell_type": "code",
   "execution_count": 5,
   "metadata": {},
   "outputs": [
    {
     "name": "stdout",
     "output_type": "stream",
     "text": [
      "Original List:  [1, 2, 3, 4, 5, 6, 7, 8, 9, 10, 11, 12, 15, 16]\n",
      "List of Even number of Original List:  [2, 4, 6, 8, 10, 12, 16]\n"
     ]
    }
   ],
   "source": [
    "#----------------Finding Even number in a given list---------------------\n",
    "def is_even_num(l):\n",
    "    enum = []\n",
    "    for n in l:\n",
    "        if n % 2 == 0:\n",
    "            enum.append(n)\n",
    "    return enum\n",
    "l=[1, 2, 3, 4, 5, 6, 7, 8, 9,10,11,12,15,16]\n",
    "\n",
    "print(\"Original List: \",l)\n",
    "print(\"List of Even number of Original List: \",is_even_num(l))\n"
   ]
  },
  {
   "cell_type": "code",
   "execution_count": 7,
   "metadata": {},
   "outputs": [
    {
     "name": "stdout",
     "output_type": "stream",
     "text": [
      "False\n",
      "True\n"
     ]
    }
   ],
   "source": [
    "#----------------Finding Palindrome of a given String---------------------\n",
    "def isPalindrome(string):\n",
    "    left_pos = 0\n",
    "    right_pos = len(string) - 1\n",
    "\n",
    "    while right_pos >= left_pos:\n",
    "        if not string[left_pos] == string[right_pos]:\n",
    "            return False\n",
    "        left_pos += 1\n",
    "        right_pos -= 1\n",
    "    return True\n",
    "print(isPalindrome('when')) \n",
    "print(isPalindrome('madam')) "
   ]
  },
  {
   "cell_type": "code",
   "execution_count": 16,
   "metadata": {
    "scrolled": true
   },
   "outputs": [
    {
     "name": "stdout",
     "output_type": "stream",
     "text": [
      "4 is not a prime number\n",
      "3 is a prime number\n"
     ]
    }
   ],
   "source": [
    "def isPrimeNo(num):\n",
    "    if num > 1:\n",
    "        for i in range(2, num):\n",
    "            if (num % i) == 0:\n",
    "                print(num, \"is not a prime number\")\n",
    "                break\n",
    "        \n",
    "        else:\n",
    "            print(num, \"is a prime number\")\n",
    "\n",
    "\n",
    "    else:\n",
    "        print(num, \"is not a prime number\")\n",
    "isPrimeNo(4)\n",
    "isPrimeNo(3)\n"
   ]
  },
  {
   "cell_type": "code",
   "execution_count": 19,
   "metadata": {},
   "outputs": [
    {
     "name": "stdout",
     "output_type": "stream",
     "text": [
      "electronics\n",
      "Cloths\n",
      "ingredient\n"
     ]
    }
   ],
   "source": [
    "#----------------the multiple arguments----------\n",
    "def shoppingList(*lst):\n",
    "    for l in lst:\n",
    "        print(l)\n",
    "shoppingList(\"electronics\",\"Cloths\",\"ingredient\")"
   ]
  },
  {
   "cell_type": "code",
   "execution_count": null,
   "metadata": {},
   "outputs": [],
   "source": []
  }
 ],
 "metadata": {
  "kernelspec": {
   "display_name": "Python 3",
   "language": "python",
   "name": "python3"
  },
  "language_info": {
   "codemirror_mode": {
    "name": "ipython",
    "version": 3
   },
   "file_extension": ".py",
   "mimetype": "text/x-python",
   "name": "python",
   "nbconvert_exporter": "python",
   "pygments_lexer": "ipython3",
   "version": "3.7.3"
  }
 },
 "nbformat": 4,
 "nbformat_minor": 2
}
