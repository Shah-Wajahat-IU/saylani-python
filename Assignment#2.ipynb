{
 "cells": [
  {
   "cell_type": "code",
   "execution_count": null,
   "metadata": {},
   "outputs": [],
   "source": []
  },
  {
   "cell_type": "code",
   "execution_count": 6,
   "metadata": {},
   "outputs": [
    {
     "name": "stdout",
     "output_type": "stream",
     "text": [
      "####-----Enter the Marks of Five Subjects-----####\n",
      "Enter the marks of First Subject: 78\n",
      "Enter the marks of Second Subject: 87\n",
      "Enter the marks of Third Subject: 98\n",
      "Enter the marks of Forth Subject: 76\n",
      "Enter the marks of Fiveth Subject: 89\n",
      "Your Grade is: A+\n",
      "Obtain marks: 83.0/500\n"
     ]
    }
   ],
   "source": [
    "print(\"####-----Enter the Marks of Five Subjects-----####\")\n",
    "mark1=float(input(\"Enter the marks of First Subject: \"))\n",
    "mark2=float(input(\"Enter the marks of Second Subject: \"))\n",
    "mark3=float(input(\"Enter the marks of Third Subject: \"))\n",
    "mark4=float(input(\"Enter the marks of Forth Subject: \"))\n",
    "mark5=float(input(\"Enter the marks of Fiveth Subject: \"))\n",
    "totalmarks:mark1+mark2+mark3+mark4+mark4\n",
    "result=(totalmarks/500)*100\n",
    "r=round(result,3)\n",
    "if r>=80 and r<=100:\n",
    "    grade=\"A+\"\n",
    "    message=\"Awsome keep it up\"\n",
    "elif r>=70 and r<80:\n",
    "    grade=\"A\"\n",
    "    message=\"very Good work\"\n",
    "elif r>=60 and r<70:\n",
    "    grade=\"B\"\n",
    "    message=\"Good work.\"\n",
    "elif r>=50 and r<60:\n",
    "    grade=\"C\"\n",
    "    message=\"Not bad keep work Hard Next Time I hope You will get Good marks\"\n",
    "elif r>=40 and r<50:\n",
    "    grade=\"D\"\n",
    "    message=\"keep work Hard Next Time I hope You will get Good marks\"\n",
    "else:\n",
    "    grade=\"Fail\"\n",
    "    message=\"Sorry you are fail! You must work Hard Next Time\"\n",
    "print(\"--------------Marksheet--------------\")\n",
    "print(\"Obtain marks: \"+ str(totalmarks)+\"/500\")\n",
    "print(\"Yours Persentage is: \"+)\n",
    "print(\"Your Grade is:\",grade)\n",
    "print(message)"
   ]
  },
  {
   "cell_type": "code",
   "execution_count": 10,
   "metadata": {},
   "outputs": [
    {
     "name": "stdout",
     "output_type": "stream",
     "text": [
      "--------Find the given number is EVEN of ODD---------\n",
      "Enter any number: -20\n",
      "Given number is Even and Entered Number is: -20\n"
     ]
    }
   ],
   "source": [
    "print(\"--------Find the given number is EVEN of ODD---------\")\n",
    "number=int(input(\"Enter any number: \"))\n",
    "if number%2==0:\n",
    "    message=\"Even\"\n",
    "else:\n",
    "    message=\"Odd\"\n",
    "print(\"Given number is \"+message+\" and Entered Number is: \"+str(number))"
   ]
  },
  {
   "cell_type": "code",
   "execution_count": 15,
   "metadata": {},
   "outputs": [
    {
     "name": "stdout",
     "output_type": "stream",
     "text": [
      "========Find the length of list========\n",
      "The original list is: [1, 2, 34, 5, 6, 4, 3, 5, 7]\n",
      "lenght of list is: 9\n"
     ]
    }
   ],
   "source": [
    "print(\"========Find the length of list========\")\n",
    "list1=[1,2,34,5,6,4,3,5,7]\n",
    "print(\"The original list is: \"+str(list1))\n",
    "print(\"lenght of list is: \"+str(len(list1)))\n"
   ]
  },
  {
   "cell_type": "code",
   "execution_count": 16,
   "metadata": {},
   "outputs": [
    {
     "name": "stdout",
     "output_type": "stream",
     "text": [
      "========Find the sum of list========\n",
      "The original list is: [1, 2, 34, 5, 6, 4, 3, 5, 7]\n",
      "Summation of list is: 67\n"
     ]
    }
   ],
   "source": [
    "print(\"========Find the sum of list========\")\n",
    "list1=[1,2,34,5,6,4,3,5,7]\n",
    "result=sum(list1)\n",
    "print(\"The original list is: \"+str(list1))\n",
    "print(\"Summation of list is: \"+str(result))\n"
   ]
  },
  {
   "cell_type": "code",
   "execution_count": 17,
   "metadata": {},
   "outputs": [
    {
     "name": "stdout",
     "output_type": "stream",
     "text": [
      "========Find the sum of list========\n",
      "The original list is: [1, 2, 34, 5, 6, 4, 3, 5, 7]\n",
      "Highest number of list is: 34\n"
     ]
    }
   ],
   "source": [
    "print(\"========Find the Highest number of list========\")\n",
    "list1=[1,2,34,5,6,4,3,5,7]\n",
    "result=max(list1)\n",
    "print(\"The original list is: \"+str(list1))\n",
    "print(\"Highest number of list is: \"+str(result))\n",
    "\n"
   ]
  },
  {
   "cell_type": "code",
   "execution_count": 20,
   "metadata": {},
   "outputs": [
    {
     "name": "stdout",
     "output_type": "stream",
     "text": [
      "========Prints out all the elements of the list that are less than 5========\n",
      "The original list is: [1, 1, 2, 3, 5, 8, 13, 21, 34, 55, 89]\n",
      "list after Changed [1, 1, 2, 3]\n"
     ]
    }
   ],
   "source": [
    "print(\"========Prints out all the elements of the list that are less than 5========\")\n",
    "a = [1, 1, 2, 3, 5, 8, 13, 21, 34, 55, 89]\n",
    "newList=[]\n",
    "for i in a:\n",
    "    if i < 5:\n",
    "        newList.append(i)\n",
    "print(\"The original list is: \"+str(a))\n",
    "print(\"list after Changed \"+str(newList))"
   ]
  },
  {
   "cell_type": "code",
   "execution_count": null,
   "metadata": {},
   "outputs": [],
   "source": []
  }
 ],
 "metadata": {
  "kernelspec": {
   "display_name": "Python 3",
   "language": "python",
   "name": "python3"
  },
  "language_info": {
   "codemirror_mode": {
    "name": "ipython",
    "version": 3
   },
   "file_extension": ".py",
   "mimetype": "text/x-python",
   "name": "python",
   "nbconvert_exporter": "python",
   "pygments_lexer": "ipython3",
   "version": "3.7.3"
  }
 },
 "nbformat": 4,
 "nbformat_minor": 2
}
