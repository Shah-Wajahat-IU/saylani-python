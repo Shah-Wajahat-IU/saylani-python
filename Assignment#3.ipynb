{
 "cells": [
  {
   "cell_type": "code",
   "execution_count": 2,
   "metadata": {},
   "outputs": [
    {
     "name": "stdout",
     "output_type": "stream",
     "text": [
      "===========Calculator============\n",
      "Enter First Number: 7\n",
      "Enter Second Number: 8\n",
      "Enter Any Operator +,-,*,/,^^\n",
      "5764801\n"
     ]
    }
   ],
   "source": [
    "print(\"===========Calculator============\")\n",
    "firstNumber=int(input(\"Enter First Number: \"))\n",
    "secondNumber=int(input(\"Enter Second Number: \"))\n",
    "operator=input(\"Enter Any Operator +,-,*,/,^: \")\n",
    "if operator==\"+\":\n",
    "    ans=firstNumber+secondNumber\n",
    "elif operator==\"-\":\n",
    "    ans=firstNumber-secondNumber\n",
    "elif operator==\"*\":\n",
    "    ans=firstNumber*secondNumber\n",
    "elif operator==\"/\":\n",
    "    ans=firstNumber/secondNumber\n",
    "elif operator==\"^\":\n",
    "    ans=firstNumber**secondNumber\n",
    "else:\n",
    "    print(\"Incorrect opeartor\")\n",
    "    \n",
    "print(str(ans))"
   ]
  },
  {
   "cell_type": "code",
   "execution_count": 7,
   "metadata": {},
   "outputs": [
    {
     "name": "stdout",
     "output_type": "stream",
     "text": [
      "===========Checking it is a nummeric value or not in a list============\n",
      "Original List\n",
      "[1, 5, 7, 4, 7, 'a', True, 'ahmed', 59, 67, 'javed']\n",
      "Filtered list Contained Only int value\n",
      "[1, 5, 7, 4, 7, 59, 67]\n"
     ]
    }
   ],
   "source": [
    "print(\"===========Checking it is a nummeric value or not in a list============\")\n",
    "l=[1,5,7,4,7,\"a\",True,\"ahmed\",59,67,\"javed\"]\n",
    "c=[]\n",
    "print(\"Original List\")\n",
    "print(l)\n",
    "for a in l:\n",
    "    b=str(a)\n",
    "    if(b.isdigit()):\n",
    "        c.append(int(b))\n",
    "print(\"Filtered list Contained Only int value\") \n",
    "print(c)\n",
    "        "
   ]
  },
  {
   "cell_type": "code",
   "execution_count": 17,
   "metadata": {},
   "outputs": [
    {
     "name": "stdout",
     "output_type": "stream",
     "text": [
      "Enter Key: age\n",
      "Enter Value: 23\n",
      "{'name': 'shah Wajahat', 'education': 'BSCS', 'age': '23'}\n"
     ]
    }
   ],
   "source": [
    "print(\"===========Adding a new key value in Dictionary============\")\n",
    "dic={\n",
    "    \"name\" :\"shah Wajahat\",\n",
    "    \"education\":\"BSCS\"\n",
    "}\n",
    "\n",
    "k=input(\"Enter Key: \")\n",
    "v=input(\"Enter Value: \")\n",
    "for i in dic.keys():\n",
    "    if i==k:\n",
    "        print(\"Entered Key is Exist\")\n",
    "        \n",
    "dic.update({k:v})\n",
    "print(dic)"
   ]
  },
  {
   "cell_type": "code",
   "execution_count": 32,
   "metadata": {},
   "outputs": [
    {
     "name": "stdout",
     "output_type": "stream",
     "text": [
      "===========Sum the value of dictinary============\n",
      "Sum of all values in dic: 305\n"
     ]
    }
   ],
   "source": [
    "print(\"===========Sum the value of dictinary============\")\n",
    "dic={\n",
    "    \"Math\":80,\n",
    "    \"English\":70,\n",
    "    \"Computer\":85,\n",
    "    \"Urdu\":70\n",
    "}\n",
    "sum=0\n",
    "for v in dic.values():\n",
    "    sum=sum+v\n",
    "    \n",
    "print(\"Sum of all values in dic:\" ,sum)"
   ]
  },
  {
   "cell_type": "code",
   "execution_count": 29,
   "metadata": {},
   "outputs": [
    {
     "name": "stdout",
     "output_type": "stream",
     "text": [
      "===========checking the input  the new key is present or not in Dictionary============\n",
      "Enter Key: f\n",
      "Input key is Not Present\n"
     ]
    }
   ],
   "source": [
    "print(\"===========checking the input  the new key is present or not in Dictionary============\")\n",
    "dic={\n",
    "    \"a\":3,\n",
    "    \"b\":5,\n",
    "    \"c\":7,\n",
    "    \"d\":6\n",
    "}\n",
    "\n",
    "k=input(\"Enter Key: \")\n",
    "if k in dic.keys():\n",
    "    print(\"Input key is Already Present\")\n",
    "else:\n",
    "    print(\"Input key is Not Present\")"
   ]
  },
  {
   "cell_type": "code",
   "execution_count": 33,
   "metadata": {},
   "outputs": [
    {
     "name": "stdout",
     "output_type": "stream",
     "text": [
      "===========Filtered the dublicate value in List============\n",
      "original list:  [2, 4, 6, 1, 23, 4, 5, 6, 43, 2, 13, 5, 6, 7]\n",
      "filtered list:  [2, 4, 6, 1, 23, 5, 43, 13, 7]\n"
     ]
    }
   ],
   "source": [
    "print(\"===========Filtered the dublicate value in List============\")\n",
    "checkList=[2,4,6,1,23,4,5,6,43,2,13,5,6,7]\n",
    "dub=[]\n",
    "for l in checkList:\n",
    "    if l not in dub:\n",
    "        dub.append(l)\n",
    "print(\"original list: \",checkList)\n",
    "print(\"filtered list: \",dub)"
   ]
  },
  {
   "cell_type": "code",
   "execution_count": null,
   "metadata": {},
   "outputs": [],
   "source": []
  }
 ],
 "metadata": {
  "kernelspec": {
   "display_name": "Python 3",
   "language": "python",
   "name": "python3"
  },
  "language_info": {
   "codemirror_mode": {
    "name": "ipython",
    "version": 3
   },
   "file_extension": ".py",
   "mimetype": "text/x-python",
   "name": "python",
   "nbconvert_exporter": "python",
   "pygments_lexer": "ipython3",
   "version": "3.7.3"
  }
 },
 "nbformat": 4,
 "nbformat_minor": 2
}
