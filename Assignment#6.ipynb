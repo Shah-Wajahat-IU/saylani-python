{
 "cells": [
  {
   "cell_type": "markdown",
   "metadata": {},
   "source": [
    "# Object Orientation Programing Language:\n"
   ]
  },
  {
   "cell_type": "markdown",
   "metadata": {},
   "source": [
    "Object Orientation Programing langauge is a high level computer programing langauge that binds related data and function into an object and encourages to use in same program and other Programs."
   ]
  },
  {
   "cell_type": "markdown",
   "metadata": {},
   "source": [
    "# Benefits Of OOP"
   ]
  },
  {
   "cell_type": "markdown",
   "metadata": {},
   "source": [
    "### 1:Re-useability:\n",
    "        Re using Some Facility rather than building again and again.This is use done with the use of class. We can use it 'n' number of time or as per our need.\n",
    "### 2:Code Maintenance:\n",
    "        This feature is more of a necessity for any programming languages, it helps users from doing re-work in many ways. It is always easy and time-saving to maintain and modify the existing codes with incorporating new changes into it.\n",
    "### 3:Security:\n",
    "        With the use of data hiding and abstraction mechanism, we are filtering out limited data to exposure which means we are maintaining security and providing necessary data to view.\n",
    "### 4:Design Benefits:\n",
    "        If you are practicing on OOPs the design benefit a user will get is in terms of designing and fixing things easily and eliminating the risks (if any). Here the Object Oriented Programs forces the designers to have a longer and extensive design phase, which results in better designs and fewer flaws.\n",
    "### 5:Problems solving\n",
    "        Decomposing a complex problem into smaller chunks or discrete components is a good practice. OOP is specialized in this behavior, as it breaks down your software code into bite-sized – one object at a time. "
   ]
  },
  {
   "cell_type": "markdown",
   "metadata": {},
   "source": [
    "# Functions:\n",
    "    1:Functions have independent existence means they can be defined outside of the class. Ex:- main() function in C, C++ Language\n",
    "\n",
    "    2:Functions are defined in structured languages like Pascal, C and object-based language like javaScript\n",
    "\n",
    "    3:Functions are called independently.\n",
    "\n",
    "    4:Functions are a self-describing unit of code.\n",
    "# Methods:\n",
    "      1:Methods do not have independent existence they are always defined within a class. Ex:- main() method in C# Language that is defined within a class\n",
    "\n",
    "    2:Methods are defined in object-oriented languages like C#, Java\n",
    "\n",
    "    3:Methods are called using instance or object.\n",
    "\n",
    "    4:Methods are used to a manipulate the instance variable of a class."
   ]
  },
  {
   "cell_type": "code",
   "execution_count": null,
   "metadata": {},
   "outputs": [],
   "source": []
  },
  {
   "cell_type": "markdown",
   "metadata": {},
   "source": [
    "# Class:\n",
    "    The class is a blueprint that defines a nature of a future object.The class is a blueprint that defines a nature of a future object.\n",
    "# Object:\n",
    "    An object is nothing but a self-contained component which consists of methods and properties to make a particular type of data useful. Object determines the behavior of the class\n",
    "\n",
    "# Attribute:\n",
    "    All classes create objects, and all objects contain characteristics called attributes.\n",
    "# Behavior:\n",
    "    The behavior of an object is defined by its methods, which are the functions and subroutines defined within the object class. Without class methods, a class would simply be a structure."
   ]
  },
  {
   "cell_type": "code",
   "execution_count": 2,
   "metadata": {},
   "outputs": [],
   "source": [
    "class Car(object):\n",
    "  \"\"\"\n",
    "    blueprint for car\n",
    "  \"\"\"\n",
    "\n",
    "  def __init__(self, model, color, company, speed_limit):\n",
    "    self.color = color\n",
    "    self.company = company\n",
    "    self.speed_limit = speed_limit\n",
    "    self.model = model\n",
    "\n",
    "  def start(self):\n",
    "    print(\"started\")\n",
    "\n",
    "  def stop(self):\n",
    "    print(\"stopped\")\n",
    "\n",
    "  def accelarate(self):\n",
    "    print(\"accelarating...\")\n",
    "    \"accelarator functionality here\"\n",
    "\n",
    "  def change_gear(self, gear_type):\n",
    "    print(\"gear changed\")\n",
    "    \" gear related functionality here\"\n",
    "    "
   ]
  },
  {
   "cell_type": "code",
   "execution_count": 6,
   "metadata": {},
   "outputs": [
    {
     "name": "stdout",
     "output_type": "stream",
     "text": [
      "started\n",
      "None\n"
     ]
    }
   ],
   "source": [
    "maruthi_suzuki = Car(\"ertiga\", \"black\", \"suzuki\", 60)\n",
    "\n",
    "audi = Car(\"A6\", \"red\", \"audi\", 80)\n",
    "suzuki=Car(\" Pak Suzuki Motors, \",\"Red\",\"Suzuki Mehran\",70)\n",
    "corolla=Car(\"Toyota\",\"White\",\"Toyota Corolla\",100 )\n",
    "civic=Car(\"Honda\",\"Black\",\"Honda Civic\",120)"
   ]
  },
  {
   "cell_type": "code",
   "execution_count": null,
   "metadata": {},
   "outputs": [],
   "source": []
  }
 ],
 "metadata": {
  "kernelspec": {
   "display_name": "Python 3",
   "language": "python",
   "name": "python3"
  },
  "language_info": {
   "codemirror_mode": {
    "name": "ipython",
    "version": 3
   },
   "file_extension": ".py",
   "mimetype": "text/x-python",
   "name": "python",
   "nbconvert_exporter": "python",
   "pygments_lexer": "ipython3",
   "version": "3.7.3"
  }
 },
 "nbformat": 4,
 "nbformat_minor": 2
}
